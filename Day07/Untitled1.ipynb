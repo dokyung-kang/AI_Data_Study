{
  "nbformat": 4,
  "nbformat_minor": 0,
  "metadata": {
    "colab": {
      "provenance": []
    },
    "kernelspec": {
      "name": "python3",
      "display_name": "Python 3"
    },
    "language_info": {
      "name": "python"
    }
  },
  "cells": [
    {
      "cell_type": "code",
      "execution_count": 1,
      "metadata": {
        "colab": {
          "base_uri": "https://localhost:8080/"
        },
        "id": "DkaORNbyGNcC",
        "outputId": "b1ebe5c9-9dcb-484a-800b-797d5ab6772f"
      },
      "outputs": [
        {
          "output_type": "execute_result",
          "data": {
            "text/plain": [
              "[1, 4, 7, 10, 13, 16, 19]"
            ]
          },
          "metadata": {},
          "execution_count": 1
        }
      ],
      "source": [
        "x = list(range(1, 20, 3))\n",
        "x"
      ]
    },
    {
      "cell_type": "code",
      "source": [
        "for i in range(len(x)):\n",
        "  x[i] = x[i] + 10\n",
        "\n",
        "x"
      ],
      "metadata": {
        "colab": {
          "base_uri": "https://localhost:8080/"
        },
        "id": "dWpb3oUgHArW",
        "outputId": "826ba8de-18a1-4712-ae2b-83ffe483e2d6"
      },
      "execution_count": 2,
      "outputs": [
        {
          "output_type": "execute_result",
          "data": {
            "text/plain": [
              "[11, 14, 17, 20, 23, 26, 29]"
            ]
          },
          "metadata": {},
          "execution_count": 2
        }
      ]
    },
    {
      "cell_type": "code",
      "source": [
        "for i in range(len(x)):\n",
        "  x[i] = x[i] * 2\n",
        "\n",
        "x"
      ],
      "metadata": {
        "colab": {
          "base_uri": "https://localhost:8080/"
        },
        "id": "vfB3iMLyIJyf",
        "outputId": "fb50ea7f-4eae-46aa-b73a-3677a602009d"
      },
      "execution_count": 3,
      "outputs": [
        {
          "output_type": "execute_result",
          "data": {
            "text/plain": [
              "[22, 28, 34, 40, 46, 52, 58]"
            ]
          },
          "metadata": {},
          "execution_count": 3
        }
      ]
    },
    {
      "cell_type": "code",
      "source": [
        "import numpy as np\n",
        "\n",
        "x = np.arange(0.5, 2.5, 0.3)\n",
        "x"
      ],
      "metadata": {
        "colab": {
          "base_uri": "https://localhost:8080/"
        },
        "id": "u1gg-a5CIbI0",
        "outputId": "a8408ceb-2640-4f8f-ffc8-0dad0cf19b90"
      },
      "execution_count": 5,
      "outputs": [
        {
          "output_type": "execute_result",
          "data": {
            "text/plain": [
              "array([0.5, 0.8, 1.1, 1.4, 1.7, 2. , 2.3])"
            ]
          },
          "metadata": {},
          "execution_count": 5
        }
      ]
    },
    {
      "cell_type": "code",
      "source": [
        "x = x + 10\n",
        "x"
      ],
      "metadata": {
        "colab": {
          "base_uri": "https://localhost:8080/"
        },
        "id": "ruNw3IRDJZrs",
        "outputId": "6a2ff7f1-e632-4dbd-f146-03b2f30d4672"
      },
      "execution_count": 6,
      "outputs": [
        {
          "output_type": "execute_result",
          "data": {
            "text/plain": [
              "array([10.5, 10.8, 11.1, 11.4, 11.7, 12. , 12.3])"
            ]
          },
          "metadata": {},
          "execution_count": 6
        }
      ]
    },
    {
      "cell_type": "code",
      "source": [
        "x = x * 2\n",
        "x"
      ],
      "metadata": {
        "colab": {
          "base_uri": "https://localhost:8080/"
        },
        "id": "ci1VwmMJJgJs",
        "outputId": "917366aa-0904-46a4-acd3-a1d1a068bb3d"
      },
      "execution_count": 7,
      "outputs": [
        {
          "output_type": "execute_result",
          "data": {
            "text/plain": [
              "array([21. , 21.6, 22.2, 22.8, 23.4, 24. , 24.6])"
            ]
          },
          "metadata": {},
          "execution_count": 7
        }
      ]
    },
    {
      "cell_type": "code",
      "source": [
        "중간 = [90, 80, 70, 60, 50]\n",
        "기말 = [80, 70, 60, 50, 40]\n",
        "최종 = []\n",
        "\n",
        "for i in range(5):\n",
        "    hap = (중간[i]  + 기말[i])/2\n",
        "    최종.append(hap)\n",
        "print(최종)\n",
        "\n",
        "for i in range(5):\n",
        "  최종[i]=최종[i] + 7\n",
        "print('가산점 적용 후 = ', 최종)"
      ],
      "metadata": {
        "colab": {
          "base_uri": "https://localhost:8080/"
        },
        "id": "l_Yy87QdKe-3",
        "outputId": "7ad0ca57-0d6c-46c0-d492-c67a1ed32899"
      },
      "execution_count": 10,
      "outputs": [
        {
          "output_type": "stream",
          "name": "stdout",
          "text": [
            "[85.0, 75.0, 65.0, 55.0, 45.0]\n",
            "가산점 적용 후 =  [92.0, 82.0, 72.0, 62.0, 52.0]\n"
          ]
        }
      ]
    },
    {
      "cell_type": "code",
      "source": [
        "중간 = [90, 80, 70, 60, 50]\n",
        "기말 = [80, 70, 60, 50, 40]\n",
        "\n",
        "mid=np.array(중간)\n",
        "final=np.array(기말)\n",
        "\n",
        "최종 = (mid+final)/2\n",
        "print(최종)\n",
        "\n",
        "최종 = 최종 + 7\n",
        "print('가산점 적용 후= ', 최종)"
      ],
      "metadata": {
        "colab": {
          "base_uri": "https://localhost:8080/"
        },
        "id": "aYZDdPIeL_WM",
        "outputId": "7e46fe48-95dc-483a-abca-497f649f7549"
      },
      "execution_count": 12,
      "outputs": [
        {
          "output_type": "stream",
          "name": "stdout",
          "text": [
            "[85. 75. 65. 55. 45.]\n",
            "가산점 적용 후=  [92. 82. 72. 62. 52.]\n"
          ]
        }
      ]
    },
    {
      "cell_type": "code",
      "source": [
        "listData=[1, 2, 3, 4, 5]\n",
        "print(listData)\n",
        "print(type(listData))"
      ],
      "metadata": {
        "colab": {
          "base_uri": "https://localhost:8080/"
        },
        "id": "xl6f6VGaNUib",
        "outputId": "4948ce1d-f93a-4ff8-ca05-d50e0b28bc2b"
      },
      "execution_count": 13,
      "outputs": [
        {
          "output_type": "stream",
          "name": "stdout",
          "text": [
            "[1, 2, 3, 4, 5]\n",
            "<class 'list'>\n"
          ]
        }
      ]
    },
    {
      "cell_type": "code",
      "source": [
        "arrData = np.array([1, 2, 3, 4, 5])\n",
        "print(arrData)\n",
        "print(type(arrData))"
      ],
      "metadata": {
        "colab": {
          "base_uri": "https://localhost:8080/"
        },
        "id": "Cn80nsiPNaR9",
        "outputId": "4857e04c-995e-4ed4-bab2-d25e54bc23a9"
      },
      "execution_count": 14,
      "outputs": [
        {
          "output_type": "stream",
          "name": "stdout",
          "text": [
            "[1 2 3 4 5]\n",
            "<class 'numpy.ndarray'>\n"
          ]
        }
      ]
    },
    {
      "cell_type": "code",
      "source": [
        "arrData2 = np.array([[1, 2, 3],\n",
        "                     [4, 5, 6],\n",
        "                     [10, 11, 12]])\n",
        "print(arrData2)\n",
        "print(type(arrData2))"
      ],
      "metadata": {
        "colab": {
          "base_uri": "https://localhost:8080/"
        },
        "id": "lkzV-Kp-OFt9",
        "outputId": "0f675fb2-74d6-4cce-98f7-5a0513763d0a"
      },
      "execution_count": 15,
      "outputs": [
        {
          "output_type": "stream",
          "name": "stdout",
          "text": [
            "[[ 1  2  3]\n",
            " [ 4  5  6]\n",
            " [10 11 12]]\n",
            "<class 'numpy.ndarray'>\n"
          ]
        }
      ]
    },
    {
      "cell_type": "code",
      "source": [
        "import numpy as np\n",
        "\n",
        "arrData = np.array(listData)\n",
        "print(arrData)\n",
        "print(type(arrData))"
      ],
      "metadata": {
        "colab": {
          "base_uri": "https://localhost:8080/"
        },
        "id": "4HKXqDYhOZYP",
        "outputId": "76a3aead-5a03-49ec-f75d-07eeb02f5d1f"
      },
      "execution_count": 16,
      "outputs": [
        {
          "output_type": "stream",
          "name": "stdout",
          "text": [
            "[1 2 3 4 5]\n",
            "<class 'numpy.ndarray'>\n"
          ]
        }
      ]
    },
    {
      "cell_type": "code",
      "source": [
        "import matplotlib.pyplot as plt\n",
        "\n",
        "x=np.arange(0, 3.14*2, 0.1)\n",
        "x"
      ],
      "metadata": {
        "colab": {
          "base_uri": "https://localhost:8080/"
        },
        "id": "CZPxMbuaOqpi",
        "outputId": "df8e805a-fafc-4a27-de9d-e748d3fd2a55"
      },
      "execution_count": 18,
      "outputs": [
        {
          "output_type": "execute_result",
          "data": {
            "text/plain": [
              "array([0. , 0.1, 0.2, 0.3, 0.4, 0.5, 0.6, 0.7, 0.8, 0.9, 1. , 1.1, 1.2,\n",
              "       1.3, 1.4, 1.5, 1.6, 1.7, 1.8, 1.9, 2. , 2.1, 2.2, 2.3, 2.4, 2.5,\n",
              "       2.6, 2.7, 2.8, 2.9, 3. , 3.1, 3.2, 3.3, 3.4, 3.5, 3.6, 3.7, 3.8,\n",
              "       3.9, 4. , 4.1, 4.2, 4.3, 4.4, 4.5, 4.6, 4.7, 4.8, 4.9, 5. , 5.1,\n",
              "       5.2, 5.3, 5.4, 5.5, 5.6, 5.7, 5.8, 5.9, 6. , 6.1, 6.2])"
            ]
          },
          "metadata": {},
          "execution_count": 18
        }
      ]
    },
    {
      "cell_type": "code",
      "source": [
        "import matplotlib.pyplot as plt\n",
        "\n",
        "x=np.arange(0, 3.14*2, 0.1)\n",
        "\n",
        "y = np.sin(x)\n",
        "y"
      ],
      "metadata": {
        "colab": {
          "base_uri": "https://localhost:8080/"
        },
        "id": "9U6HdfgCPgOc",
        "outputId": "e4ec8762-ace0-46f9-d34f-079cd45497ef"
      },
      "execution_count": 19,
      "outputs": [
        {
          "output_type": "execute_result",
          "data": {
            "text/plain": [
              "array([ 0.        ,  0.09983342,  0.19866933,  0.29552021,  0.38941834,\n",
              "        0.47942554,  0.56464247,  0.64421769,  0.71735609,  0.78332691,\n",
              "        0.84147098,  0.89120736,  0.93203909,  0.96355819,  0.98544973,\n",
              "        0.99749499,  0.9995736 ,  0.99166481,  0.97384763,  0.94630009,\n",
              "        0.90929743,  0.86320937,  0.8084964 ,  0.74570521,  0.67546318,\n",
              "        0.59847214,  0.51550137,  0.42737988,  0.33498815,  0.23924933,\n",
              "        0.14112001,  0.04158066, -0.05837414, -0.15774569, -0.2555411 ,\n",
              "       -0.35078323, -0.44252044, -0.52983614, -0.61185789, -0.68776616,\n",
              "       -0.7568025 , -0.81827711, -0.87157577, -0.91616594, -0.95160207,\n",
              "       -0.97753012, -0.993691  , -0.99992326, -0.99616461, -0.98245261,\n",
              "       -0.95892427, -0.92581468, -0.88345466, -0.83226744, -0.77276449,\n",
              "       -0.70554033, -0.63126664, -0.55068554, -0.46460218, -0.37387666,\n",
              "       -0.2794155 , -0.1821625 , -0.0830894 ])"
            ]
          },
          "metadata": {},
          "execution_count": 19
        }
      ]
    },
    {
      "cell_type": "code",
      "source": [
        "import matplotlib.pyplot as plt\n",
        "\n",
        "x=np.arange(0, 3.14*2, 0.1)\n",
        "\n",
        "y = np.sin(x)\n",
        "\n",
        "plt.plot(x, y)\n",
        "plt.show()"
      ],
      "metadata": {
        "colab": {
          "base_uri": "https://localhost:8080/",
          "height": 430
        },
        "id": "fprfG-YxPoV7",
        "outputId": "11293bb8-e2d5-4940-873a-382a4bf36e7e"
      },
      "execution_count": 20,
      "outputs": [
        {
          "output_type": "display_data",
          "data": {
            "text/plain": [
              "<Figure size 640x480 with 1 Axes>"
            ],
            "image/png": "[encoded data removed]"
          },
          "metadata": {}
        }
      ]
    },
    {
      "cell_type": "code",
      "source": [
        "# x = np.arange(0, 3.14*2, 0.1)\n",
        "x = np.linspace(-np.pi, np.pi, 100)\n",
        "\n",
        "y1 = np.sin(x)\n",
        "y2 = np.cos(x)\n",
        "\n",
        "plt.plot(x, y1, label='sine')\n",
        "plt.plot(x, y2, label='cosine')\n",
        "\n",
        "plt.title('sine & cosine graph')\n",
        "plt.xlabel('x value')\n",
        "plt.ylabel('y value')\n",
        "plt.grid(True)\n",
        "plt.legend()\n",
        "\n",
        "plt.show()"
      ],
      "metadata": {
        "colab": {
          "base_uri": "https://localhost:8080/",
          "height": 472
        },
        "id": "cg1so7cNQDVR",
        "outputId": "24a10161-a36f-4f74-8ede-ae93777b5301"
      },
      "execution_count": 25,
      "outputs": [
        {
          "output_type": "display_data",
          "data": {
            "text/plain": [
              "<Figure size 640x480 with 1 Axes>"
            ],
            "image/png": "[encoded data removed]"
          },
          "metadata": {}
        }
      ]
    },
    {
      "cell_type": "code",
      "source": [
        "a = np.linspace(1, 10, 10)\n",
        "a"
      ],
      "metadata": {
        "colab": {
          "base_uri": "https://localhost:8080/"
        },
        "id": "9Xb-Uf3PRwEZ",
        "outputId": "a52b0eaf-1c0c-4a1e-ec8c-b9a474e82258"
      },
      "execution_count": 26,
      "outputs": [
        {
          "output_type": "execute_result",
          "data": {
            "text/plain": [
              "array([ 1.,  2.,  3.,  4.,  5.,  6.,  7.,  8.,  9., 10.])"
            ]
          },
          "metadata": {},
          "execution_count": 26
        }
      ]
    },
    {
      "cell_type": "code",
      "source": [
        "a = np.linspace(1, 25, 30)\n",
        "a"
      ],
      "metadata": {
        "colab": {
          "base_uri": "https://localhost:8080/"
        },
        "id": "8u7e3r3OSm9t",
        "outputId": "84b122ee-3a8f-4430-b48c-c59b50845e84"
      },
      "execution_count": 27,
      "outputs": [
        {
          "output_type": "execute_result",
          "data": {
            "text/plain": [
              "array([ 1.        ,  1.82758621,  2.65517241,  3.48275862,  4.31034483,\n",
              "        5.13793103,  5.96551724,  6.79310345,  7.62068966,  8.44827586,\n",
              "        9.27586207, 10.10344828, 10.93103448, 11.75862069, 12.5862069 ,\n",
              "       13.4137931 , 14.24137931, 15.06896552, 15.89655172, 16.72413793,\n",
              "       17.55172414, 18.37931034, 19.20689655, 20.03448276, 20.86206897,\n",
              "       21.68965517, 22.51724138, 23.34482759, 24.17241379, 25.        ])"
            ]
          },
          "metadata": {},
          "execution_count": 27
        }
      ]
    },
    {
      "cell_type": "code",
      "source": [
        "np.random.rand(5)"
      ],
      "metadata": {
        "colab": {
          "base_uri": "https://localhost:8080/"
        },
        "id": "qQK4ZMGdTTXI",
        "outputId": "eea7027e-ffee-4821-d773-1275e63393b8"
      },
      "execution_count": 28,
      "outputs": [
        {
          "output_type": "execute_result",
          "data": {
            "text/plain": [
              "array([0.58409544, 0.75511529, 0.54821189, 0.64982379, 0.92497658])"
            ]
          },
          "metadata": {},
          "execution_count": 28
        }
      ]
    },
    {
      "cell_type": "code",
      "source": [
        "np.random.rand(2, 3)"
      ],
      "metadata": {
        "colab": {
          "base_uri": "https://localhost:8080/"
        },
        "id": "gWBRBtb2TWqN",
        "outputId": "1808fef9-ade3-40f5-bbc9-220e29087e3e"
      },
      "execution_count": 29,
      "outputs": [
        {
          "output_type": "execute_result",
          "data": {
            "text/plain": [
              "array([[0.49624215, 0.9644677 , 0.89732631],\n",
              "       [0.84718627, 0.32944098, 0.99207918]])"
            ]
          },
          "metadata": {},
          "execution_count": 29
        }
      ]
    },
    {
      "cell_type": "code",
      "source": [
        "x=10\n",
        "y=20\n",
        "\n",
        "(y-x)*np.random.rand(5) + x"
      ],
      "metadata": {
        "colab": {
          "base_uri": "https://localhost:8080/"
        },
        "id": "R8Gf3B4TTlIu",
        "outputId": "b93a50d6-bdf1-441f-dbd7-1f8936823003"
      },
      "execution_count": 30,
      "outputs": [
        {
          "output_type": "execute_result",
          "data": {
            "text/plain": [
              "array([12.78939288, 17.79264144, 12.9778957 , 15.23034134, 15.75541306])"
            ]
          },
          "metadata": {},
          "execution_count": 30
        }
      ]
    },
    {
      "cell_type": "code",
      "source": [
        "np.random.randint(2, 10, 10)"
      ],
      "metadata": {
        "colab": {
          "base_uri": "https://localhost:8080/"
        },
        "id": "J11arxmMUFTU",
        "outputId": "493c6855-fd75-45c5-8169-9faf0a39954d"
      },
      "execution_count": 31,
      "outputs": [
        {
          "output_type": "execute_result",
          "data": {
            "text/plain": [
              "array([5, 3, 7, 9, 2, 4, 3, 7, 9, 3])"
            ]
          },
          "metadata": {},
          "execution_count": 31
        }
      ]
    },
    {
      "cell_type": "code",
      "source": [
        "np.random.randint(2, 50, size=(2, 3))"
      ],
      "metadata": {
        "colab": {
          "base_uri": "https://localhost:8080/"
        },
        "id": "7iogo1cgUSDk",
        "outputId": "747cedc0-462a-4e9b-c55b-7ffef46b69df"
      },
      "execution_count": 33,
      "outputs": [
        {
          "output_type": "execute_result",
          "data": {
            "text/plain": [
              "array([[48, 36, 19],\n",
              "       [47, 14, 27]])"
            ]
          },
          "metadata": {},
          "execution_count": 33
        }
      ]
    },
    {
      "cell_type": "code",
      "source": [
        "np.random.normal(55, 5, 10)"
      ],
      "metadata": {
        "colab": {
          "base_uri": "https://localhost:8080/"
        },
        "id": "k2Fw1Ez-ULX-",
        "outputId": "e25937b7-1e4e-4792-b206-c29453424783"
      },
      "execution_count": 32,
      "outputs": [
        {
          "output_type": "execute_result",
          "data": {
            "text/plain": [
              "array([53.85519571, 49.31447985, 56.76953464, 56.58414161, 54.01048423,\n",
              "       58.02181244, 58.6640263 , 51.02056057, 48.23439123, 55.58905643])"
            ]
          },
          "metadata": {},
          "execution_count": 32
        }
      ]
    }
  ]
}