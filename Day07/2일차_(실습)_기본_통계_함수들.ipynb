{
  "nbformat": 4,
  "nbformat_minor": 0,
  "metadata": {
    "colab": {
      "provenance": []
    },
    "kernelspec": {
      "name": "python3",
      "display_name": "Python 3"
    },
    "language_info": {
      "name": "python"
    }
  },
  "cells": [
    {
      "cell_type": "markdown",
      "source": [
        "## 기본 통계 함수들\n",
        "#### 5명의 학생들에 대한 성적을 입력받아 데이터를 생성하시오.\n",
        "#### 생성한 성적에 대하여 아래의 통계, 수학 계산을 수행하시오.\n",
        "#### 합, 평균, 분산, 표준편차"
      ],
      "metadata": {
        "id": "7zB0QWKLwjze"
      }
    },
    {
      "cell_type": "code",
      "source": [
        "# numpy를 활용하지 않은 경우\n",
        "\n",
        "scores = [ ]\n",
        "for i in range(5):\n",
        "    val = int(input('%d번 성적입력-> ' % (i+1)))\n",
        "    scores.append(val)\n",
        "\n",
        "\n",
        "print('\\n입력된 전체점수')\n",
        "print(scores, '\\n')\n",
        "\n",
        "# 합계, 평균 구하기\n",
        "sumR = sum(scores)\n",
        "aveR = sumR / len(scores)\n",
        "\n",
        "print('합계 : %10d' % sumR)\n",
        "print('평균 : %10.2f' % aveR)\n",
        "\n"
      ],
      "metadata": {
        "id": "KLvO5cx-wmLC",
        "colab": {
          "base_uri": "https://localhost:8080/"
        },
        "outputId": "19a2008f-5793-4414-f3d4-9224c7191ace"
      },
      "execution_count": 3,
      "outputs": [
        {
          "output_type": "stream",
          "name": "stdout",
          "text": [
            "1번 성적입력-> 1\n",
            "2번 성적입력-> 2\n",
            "3번 성적입력-> 3\n",
            "4번 성적입력-> 4\n",
            "5번 성적입력-> 5\n",
            "\n",
            "입력된 전체점수\n",
            "[1, 2, 3, 4, 5] \n",
            "\n",
            "합계 :         15\n",
            "평균 :       3.00\n"
          ]
        }
      ]
    },
    {
      "cell_type": "code",
      "source": [
        "# 합계, 평균 구하기\n",
        "sumR =\n",
        "aveR =\n",
        "\n",
        "print('합계 : %10d' % sumR)\n",
        "print('평균 : %10.2f' % aveR)"
      ],
      "metadata": {
        "id": "CjEC5BIx8U10"
      },
      "execution_count": null,
      "outputs": []
    },
    {
      "cell_type": "code",
      "source": [
        "# 분산, 표준편차 구하\n",
        "r = 0\n",
        "for i in range(5):\n",
        "  r += (scores[i] - aveR) ** 2\n",
        "\n",
        "\n",
        "varR = r / len(scores)\n",
        "stdR = varR**(1/2)\n",
        "\n",
        "print('합계 : %10d' % sumR)\n",
        "print('평균 : %10.2f' % aveR)\n",
        "print('분산 : %10.2f' % varR)\n",
        "print('표준편차 : %10.2f' % stdR)"
      ],
      "metadata": {
        "id": "lYS0IAhk8Yna",
        "colab": {
          "base_uri": "https://localhost:8080/"
        },
        "outputId": "da36208e-f8d2-4a55-c6e3-93ad4e198ec6"
      },
      "execution_count": 4,
      "outputs": [
        {
          "output_type": "stream",
          "name": "stdout",
          "text": [
            "합계 :         15\n",
            "평균 :       3.00\n",
            "분산 :       2.00\n",
            "표준편차 :       1.41\n"
          ]
        }
      ]
    },
    {
      "cell_type": "code",
      "source": [],
      "metadata": {
        "id": "auPDp6kp8XhW"
      },
      "execution_count": null,
      "outputs": []
    },
    {
      "cell_type": "code",
      "source": [
        "# numpy 활용하는 경우\n",
        "import numpy as np\n",
        "\n",
        "scores = [ ]\n",
        "for i in range(5):\n",
        "    val = int(input('%d번 성적입력-> ' % (i+1)))\n",
        "    scores.append(val)\n",
        "\n",
        "print('\\n입력된 전체점수')\n",
        "print(scores)\n",
        "\n",
        "sumR = np.sum(scores)\n",
        "aveR = np.mean(scores)\n",
        "varR = np.var(scores)\n",
        "stdR = np.std(scores)\n",
        "\n",
        "print('합계 : %10d' % sumR)\n",
        "print('평균 : %10.2f' % aveR)\n",
        "print('분산 : %10.2f' % varR)\n",
        "print('표준편차 : %10.2f' % stdR)"
      ],
      "metadata": {
        "id": "D8NEWkj5ylBG",
        "colab": {
          "base_uri": "https://localhost:8080/"
        },
        "outputId": "045b751e-0a25-4721-80e7-c05d43be3eb2"
      },
      "execution_count": 6,
      "outputs": [
        {
          "output_type": "stream",
          "name": "stdout",
          "text": [
            "1번 성적입력-> 1\n",
            "2번 성적입력-> 2\n",
            "3번 성적입력-> 3\n",
            "4번 성적입력-> 4\n",
            "5번 성적입력-> 5\n",
            "\n",
            "입력된 전체점수\n",
            "[1, 2, 3, 4, 5]\n",
            "합계 :         15\n",
            "평균 :       3.00\n",
            "분산 :       2.00\n",
            "표준편차 :       1.41\n"
          ]
        }
      ]
    }
  ]
}